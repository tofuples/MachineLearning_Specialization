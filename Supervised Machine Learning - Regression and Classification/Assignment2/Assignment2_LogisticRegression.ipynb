{
 "cells": [
  {
   "cell_type": "markdown",
   "metadata": {},
   "source": [
    "#### Outline\n",
    "- [ 1 - Logistic Regression](#2)\n",
    "  - [ 1.1 Problem Statement](#2.1)\n",
    "  - [ 1.2 Loading and visualizing the data](#2.2)\n",
    "  - [ 1.3  Sigmoid function](#2.3)\n",
    "  - [ 1.4 Cost function for logistic regression](#2.4)\n",
    "  - [ 1.5 Gradient for logistic regression](#2.5)\n",
    "  - [ 1.6 Learning parameters using gradient descent ](#2.6)\n",
    "  - [ 1.7 Plotting the decision boundary](#2.7)\n",
    "  - [ 1.8 Evaluating logistic regression](#2.8)\n",
    "- [ 2 - Regularized Logistic Regression](#3)\n",
    "  - [ 2.1 Problem Statement](#3.1)\n",
    "  - [ 2.2 Loading and visualizing the data](#3.2)\n",
    "  - [ 2.3 Feature mapping](#3.3)\n",
    "  - [ 2.4 Cost function for regularized logistic regression](#3.4)\n",
    "  - [ 2.5 Gradient for regularized logistic regression](#3.5)\n",
    "  - [ 2.6 Learning parameters using gradient descent](#3.6)\n",
    "  - [ 2.7 Plotting the decision boundary](#3.7)\n",
    "  - [ 2.8 Evaluating regularized logistic regression model](#3.8)\n"
   ]
  },
  {
   "cell_type": "code",
   "execution_count": 1,
   "metadata": {},
   "outputs": [],
   "source": [
    "import numpy as np\n",
    "import matplotlib.pyplot as plt\n",
    "from utils import *\n",
    "import copy\n",
    "import math\n",
    "\n",
    "%matplotlib inline"
   ]
  },
  {
   "cell_type": "markdown",
   "metadata": {},
   "source": [
    "#### 1.1 Problem Statement\n",
    "\n",
    "Suppose that you are the administrator of a university department and you want to determine each applicant’s chance of admission based on their results on two exams. \n",
    "* You have historical data from previous applicants that you can use as a training set for logistic regression. \n",
    "* For each training example, you have the applicant’s scores on two exams and the admissions decision. \n",
    "* Your task is to build a classification model that estimates an applicant’s probability of admission based on the scores from those two exams. "
   ]
  },
  {
   "cell_type": "code",
   "execution_count": null,
   "metadata": {},
   "outputs": [],
   "source": []
  }
 ],
 "metadata": {
  "kernelspec": {
   "display_name": ".venv",
   "language": "python",
   "name": "python3"
  },
  "language_info": {
   "codemirror_mode": {
    "name": "ipython",
    "version": 3
   },
   "file_extension": ".py",
   "mimetype": "text/x-python",
   "name": "python",
   "nbconvert_exporter": "python",
   "pygments_lexer": "ipython3",
   "version": "3.12.4"
  }
 },
 "nbformat": 4,
 "nbformat_minor": 2
}
