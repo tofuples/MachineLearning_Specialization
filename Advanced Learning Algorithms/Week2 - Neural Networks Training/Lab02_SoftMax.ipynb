{
 "cells": [
  {
   "cell_type": "markdown",
   "metadata": {},
   "source": [
    "#### Softmax Loss Function (Multi-Class Cross-Entropy)\n",
    "\n",
    "<img align=\"left\" src=\"../images/Lab02_SoftMax_Cost.png\"     style=\" width:500px; padding: 10px 20px; \" > "
   ]
  },
  {
   "cell_type": "markdown",
   "metadata": {},
   "source": []
  }
 ],
 "metadata": {
  "language_info": {
   "name": "python"
  }
 },
 "nbformat": 4,
 "nbformat_minor": 2
}
