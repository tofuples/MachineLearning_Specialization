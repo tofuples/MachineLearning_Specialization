{
 "cells": [
  {
   "cell_type": "markdown",
   "metadata": {},
   "source": [
    "#### Neural Newtork Implementation in Python\n",
    "\n",
    "- Foward prop in a single layer"
   ]
  },
  {
   "cell_type": "code",
   "execution_count": 19,
   "metadata": {},
   "outputs": [],
   "source": [
    "import numpy as np\n",
    "import matplotlib.pyplot as plt\n",
    "import tensorflow as tf\n",
    "from tensorflow.keras.layers import Dense, Input\n",
    "from tensorflow.keras import Sequential\n",
    "from tensorflow.keras.losses import MeanSquaredError, BinaryCrossentropy\n",
    "from tensorflow.keras.activations import sigmoid\n",
    "from lab_utils_common import dlc\n",
    "from lab_neurons_utils import plt_prob_1d, sigmoidnp, plt_linear, plt_logistic\n",
    "import matplotx\n",
    "plt.style.use(matplotx.styles.github[\"dark\"])\n",
    "import logging\n",
    "logging.getLogger(\"tensorflow\").setLevel(logging.ERROR)\n",
    "tf.autograph.set_verbosity(0)\n"
   ]
  },
  {
   "cell_type": "code",
   "execution_count": 18,
   "metadata": {},
   "outputs": [],
   "source": [
    "x = np.array([200, 17])\n",
    "\n",
    "w1_1 = np.array([1, 2])\n",
    "b1_1 = np.array([-1])\n",
    "z1_1 = np.dot(w1_1, x) + b1_1\n",
    "a1_1 = sigmoid(z1_1)\n",
    "\n",
    "w2_2 = np.array([1, 2])\n",
    "b2_2 = np.array([-1])\n",
    "z2_2 = np.dot(w1_1, x) + b1_2\n",
    "a2_2 = sigmoid(z2_2)\n",
    "\n",
    "w3_3 = np.array([1, 2])\n",
    "b3_3 = np.array([-1])\n",
    "z3_3 = np.dot(w1_1, x) + b1_3\n",
    "a2_2 = sigmoid(z2_2)"
   ]
  },
  {
   "cell_type": "code",
   "execution_count": 13,
   "metadata": {},
   "outputs": [],
   "source": [
    "def dense(a_in, W, b):\n",
    "    units: W.shape[1]\n",
    "    a_out = np.zeros(units)\n",
    "    for j in range(units):\n",
    "        w = W[:j]\n",
    "        z = np.dot(w,a_in) + b[j]\n",
    "        a_out[j] = g(z)\n",
    "        \n",
    "    return a_out"
   ]
  },
  {
   "cell_type": "code",
   "execution_count": 14,
   "metadata": {},
   "outputs": [],
   "source": [
    "def sequential(x):\n",
    "    a1 = dense(a1,W1,b1)\n",
    "    a2 = dense(a2,W2,b2)\n",
    "    a3 = dense(a3,W3,b3)\n",
    "    a4 = dense(a3,W4,b4)\n",
    "    f_x = a4\n",
    "    \n",
    "    return f_x"
   ]
  },
  {
   "cell_type": "code",
   "execution_count": 15,
   "metadata": {},
   "outputs": [],
   "source": [
    "W = np.array([[1, -3, 5],\n",
    "              [2, 4, -6]])\n",
    "\n",
    "b = np.array([-1, 1, 2])\n",
    "\n",
    "a_in = np.array([-2, 4])"
   ]
  },
  {
   "cell_type": "code",
   "execution_count": 17,
   "metadata": {},
   "outputs": [
    {
     "ename": "UnboundLocalError",
     "evalue": "cannot access local variable 'a1' where it is not associated with a value",
     "output_type": "error",
     "traceback": [
      "\u001b[1;31m---------------------------------------------------------------------------\u001b[0m",
      "\u001b[1;31mUnboundLocalError\u001b[0m                         Traceback (most recent call last)",
      "Cell \u001b[1;32mIn[17], line 1\u001b[0m\n\u001b[1;32m----> 1\u001b[0m \u001b[43msequential\u001b[49m\u001b[43m(\u001b[49m\u001b[43ma_in\u001b[49m\u001b[43m)\u001b[49m\n",
      "Cell \u001b[1;32mIn[14], line 2\u001b[0m, in \u001b[0;36msequential\u001b[1;34m(x)\u001b[0m\n\u001b[0;32m      1\u001b[0m \u001b[38;5;28;01mdef\u001b[39;00m\u001b[38;5;250m \u001b[39m\u001b[38;5;21msequential\u001b[39m(x):\n\u001b[1;32m----> 2\u001b[0m     a1 \u001b[38;5;241m=\u001b[39m dense(\u001b[43ma1\u001b[49m,W1,b1)\n\u001b[0;32m      3\u001b[0m     a2 \u001b[38;5;241m=\u001b[39m dense(a2,W2,b2)\n\u001b[0;32m      4\u001b[0m     a3 \u001b[38;5;241m=\u001b[39m dense(a3,W3,b3)\n",
      "\u001b[1;31mUnboundLocalError\u001b[0m: cannot access local variable 'a1' where it is not associated with a value"
     ]
    }
   ],
   "source": [
    "sequential(a_in)"
   ]
  },
  {
   "cell_type": "code",
   "execution_count": null,
   "metadata": {},
   "outputs": [],
   "source": []
  }
 ],
 "metadata": {
  "kernelspec": {
   "display_name": ".venv",
   "language": "python",
   "name": "python3"
  },
  "language_info": {
   "codemirror_mode": {
    "name": "ipython",
    "version": 3
   },
   "file_extension": ".py",
   "mimetype": "text/x-python",
   "name": "python",
   "nbconvert_exporter": "python",
   "pygments_lexer": "ipython3",
   "version": "3.12.4"
  }
 },
 "nbformat": 4,
 "nbformat_minor": 2
}
