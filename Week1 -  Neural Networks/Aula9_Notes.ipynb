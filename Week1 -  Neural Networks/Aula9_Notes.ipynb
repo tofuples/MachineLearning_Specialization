{
 "cells": [
  {
   "cell_type": "code",
   "execution_count": 1,
   "metadata": {},
   "outputs": [],
   "source": [
    "import numpy as np\n",
    "import matplotlib.pyplot as plt\n",
    "import tensorflow as tf\n",
    "from tensorflow.python.keras.layers import Dense, Input\n",
    "from tensorflow.python.keras import Sequential\n",
    "from tensorflow.python.keras.losses import MeanSquaredError, BinaryCrossentropy\n",
    "from tensorflow.python.keras.activations import sigmoid\n"
   ]
  },
  {
   "cell_type": "code",
   "execution_count": 2,
   "metadata": {},
   "outputs": [
    {
     "name": "stdout",
     "output_type": "stream",
     "text": [
      "tf.Tensor([[0.0000000e+00 0.0000000e+00 2.3954759e-13]], shape=(1, 3), dtype=float32)\n"
     ]
    }
   ],
   "source": [
    "x = np.array([[200.0, 17.0]])\n",
    "layer_1 = Dense(units=3, activation='sigmoid')\n",
    "a1 = layer_1(x)\n",
    "\n",
    "layer_2 = Dense(units=1, activation='sigmoid')\n",
    "a2 = layer_2(x)\n",
    "\n",
    "\n",
    "print(a1)\n",
    "\n"
   ]
  },
  {
   "cell_type": "code",
   "execution_count": 3,
   "metadata": {},
   "outputs": [],
   "source": [
    "## Could also be done using Sequential: \n",
    "\n",
    "x = np.array([[200.0, 17.0],\n",
    "     [120.0, 5.0],\n",
    "     [425.0, 20.0],\n",
    "     [212.0, 18.0]])\n",
    "\n",
    "y = np.array([1,0,0,1])\n",
    "\n",
    "\n",
    "layer_1 = Dense(units=3, activation='sigmoid')\n",
    "layer_2 = Dense(units=1, activation='sigmoid')\n",
    "model = Sequential([layer_1, layer_2])\n",
    "\n"
   ]
  },
  {
   "cell_type": "code",
   "execution_count": 4,
   "metadata": {},
   "outputs": [],
   "source": [
    "## Could also be simplified:\n",
    "\n",
    "model = Sequential([\n",
    "    Dense(units=3, activation='sigmoid'),\n",
    "    Dense(units=1, activation='sigmoid')\n",
    "])"
   ]
  },
  {
   "cell_type": "code",
   "execution_count": null,
   "metadata": {},
   "outputs": [],
   "source": []
  }
 ],
 "metadata": {
  "kernelspec": {
   "display_name": ".venv",
   "language": "python",
   "name": "python3"
  },
  "language_info": {
   "codemirror_mode": {
    "name": "ipython",
    "version": 3
   },
   "file_extension": ".py",
   "mimetype": "text/x-python",
   "name": "python",
   "nbconvert_exporter": "python",
   "pygments_lexer": "ipython3",
   "version": "3.12.4"
  }
 },
 "nbformat": 4,
 "nbformat_minor": 2
}
